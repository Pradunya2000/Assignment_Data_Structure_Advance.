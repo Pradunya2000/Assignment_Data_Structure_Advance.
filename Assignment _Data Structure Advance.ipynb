{
 "cells": [
  {
   "cell_type": "markdown",
   "id": "52e0edde-1ef5-464e-a0ba-c369a0cc1eba",
   "metadata": {},
   "source": [
    "1. Write a code to reverse a string."
   ]
  },
  {
   "cell_type": "code",
   "execution_count": 5,
   "id": "0738f684-4ddb-48a7-9f3d-b063cc489776",
   "metadata": {},
   "outputs": [
    {
     "name": "stdout",
     "output_type": "stream",
     "text": [
      "dlroW olleH\n"
     ]
    }
   ],
   "source": [
    "string = \"Hello World\"\n",
    "reverse = string[::-1]\n",
    "print(reverse)"
   ]
  },
  {
   "cell_type": "markdown",
   "id": "b9ad98d3-37cf-4629-8f6a-98d96eaf2d84",
   "metadata": {},
   "source": [
    "2. Write a code to count the number of vowels in a string."
   ]
  },
  {
   "cell_type": "code",
   "execution_count": 12,
   "id": "9c35edd2-002d-4190-893c-405be9f2d355",
   "metadata": {},
   "outputs": [
    {
     "name": "stdout",
     "output_type": "stream",
     "text": [
      "1\n"
     ]
    }
   ],
   "source": [
    "string = \"Hello World\"\n",
    "vowels = \"aeiouAEIOU\"\n",
    "count = 0\n",
    "for char in string:\n",
    "    if char in vowels:\n",
    "        count += 1\n",
    "print(count)"
   ]
  },
  {
   "cell_type": "markdown",
   "id": "55c64979-505f-41c8-8adc-671f424467a8",
   "metadata": {},
   "source": [
    "3. Write a code to check if a given string is a palindrome or not."
   ]
  },
  {
   "cell_type": "code",
   "execution_count": 16,
   "id": "a6661dd3-b39f-4f5c-ba8f-f7f3dffab8fe",
   "metadata": {},
   "outputs": [
    {
     "name": "stdout",
     "output_type": "stream",
     "text": [
      "non palindrome\n"
     ]
    }
   ],
   "source": [
    "string = \"car\"\n",
    "if string == string [::-1]:\n",
    "    print(\"palindrome\")\n",
    "else:\n",
    "    print(\"non palindrome\")"
   ]
  },
  {
   "cell_type": "markdown",
   "id": "5eee348a-02ae-4c4b-a44d-df80315c3730",
   "metadata": {},
   "source": [
    "4. Write a code to check if two given strings are anagrams of each other."
   ]
  },
  {
   "cell_type": "code",
   "execution_count": 27,
   "id": "0b56a49e-e12e-4e27-b3d5-d07260be1f42",
   "metadata": {},
   "outputs": [
    {
     "name": "stdout",
     "output_type": "stream",
     "text": [
      "True\n",
      "False\n"
     ]
    }
   ],
   "source": [
    "def check_if_two_strings_are_anagrams(str1, str2):\n",
    "   if(sorted(str1)== sorted(str2)):\n",
    "    return True\n",
    "  else:\n",
    "    return False\n",
    "print(check_if_two_strings_are_anagrams('anagram','nagaram'))\n",
    "print(check_if_two_strings_are_anagrams('cat','dog'))"
   ]
  },
  {
   "cell_type": "markdown",
   "id": "ffc1dc10-605d-4256-af95-241626543ff1",
   "metadata": {},
   "source": [
    "5. Write a code to find all occurrences of a given substring within another string."
   ]
  },
  {
   "cell_type": "code",
   "execution_count": 34,
   "id": "5447acbb-bdae-4bb4-8a90-de6a24110d58",
   "metadata": {},
   "outputs": [
    {
     "name": "stdout",
     "output_type": "stream",
     "text": [
      "All occurrences of \"test\" in \"This is a test. This test is for finding test occurrences.\": [10, 21, 41]\n"
     ]
    }
   ],
   "source": [
    "def find_all_occurrences(main_string, substring):\n",
    "    occurrences = []\n",
    "    start = 0\n",
    "    \n",
    "    while True:\n",
    "        start = main_string.find(substring, start)\n",
    "        if start == -1:\n",
    "            break\n",
    "        occurrences.append(start)\n",
    "        start += 1  # Move to the next position to find overlapping occurrences\n",
    "    \n",
    "    return occurrences\n",
    "\n",
    "# Example usage\n",
    "main_string = \"This is a test. This test is for finding test occurrences.\"\n",
    "substring = \"test\"\n",
    "occurrences = find_all_occurrences(main_string, substring)\n",
    "print(f'All occurrences of \"{substring}\" in \"{main_string}\": {occurrences}')"
   ]
  },
  {
   "cell_type": "markdown",
   "id": "3fe547da-cb39-4ecb-a19f-74798495f108",
   "metadata": {},
   "source": [
    "6. Write a code to perform basic string compression using the counts of repeated characters."
   ]
  },
  {
   "cell_type": "code",
   "execution_count": 1,
   "id": "57745a1c-b40f-4da4-9b43-084f49282a22",
   "metadata": {},
   "outputs": [
    {
     "name": "stdout",
     "output_type": "stream",
     "text": [
      "a2b1c5a3\n"
     ]
    }
   ],
   "source": [
    "def compress(s):\n",
    "  result = \"\"\n",
    "  count = 1\n",
    "  for i in range(len(s)-1):\n",
    "    if s[i] == s[i+1]:\n",
    "      count = count + 1\n",
    "    else:\n",
    "      result = result + s[i] + str(count)\n",
    "      count = 1\n",
    "  result = result + s[len(s)-1] + str(count)\n",
    "  return result\n",
    "\n",
    "print(compress(\"aabcccccaaa\"))"
   ]
  },
  {
   "cell_type": "markdown",
   "id": "a157efcb-9e1c-4cf8-a770-528f1772d3ae",
   "metadata": {},
   "source": [
    "7. Write a code to determine if a string has all unique characters."
   ]
  },
  {
   "cell_type": "code",
   "execution_count": 2,
   "id": "63f5d297-b5e0-4f14-982b-0fb734a6782c",
   "metadata": {},
   "outputs": [
    {
     "name": "stdin",
     "output_type": "stream",
     "text": [
      "Enter a string:  praduny34\n"
     ]
    },
    {
     "name": "stdout",
     "output_type": "stream",
     "text": [
      "The string has all unique characters.\n"
     ]
    }
   ],
   "source": [
    "string = input(\"Enter a string: \")\n",
    "if len(string) == len(set(string)):\n",
    "    print(\"The string has all unique characters.\")\n",
    "else:\n",
    "    print(\"The string does not have all unique characters.\")"
   ]
  },
  {
   "cell_type": "markdown",
   "id": "5b8e53b3-c106-4099-b27a-111474297867",
   "metadata": {},
   "source": [
    "8. Write a code to convert a given string to uppercase or lowercase."
   ]
  },
  {
   "cell_type": "code",
   "execution_count": 9,
   "id": "0bbe3725-9be8-47cc-8c8a-686c7803ee6d",
   "metadata": {},
   "outputs": [
    {
     "name": "stdout",
     "output_type": "stream",
     "text": [
      "Uppercase: HELLO, WORLD!\n",
      "Lowercase: hello, world!\n"
     ]
    }
   ],
   "source": [
    "text = \"Hello, World!\"\n",
    "\n",
    "uppercase_text = text.upper()\n",
    "print(\"Uppercase:\", uppercase_text)\n",
    "\n",
    "lowercase_text = text.lower()\n",
    "print(\"Lowercase:\", lowercase_text)\n",
    "\n"
   ]
  },
  {
   "cell_type": "markdown",
   "id": "09b259a5-2d81-4c06-8f71-d6ccedb7c027",
   "metadata": {},
   "source": [
    "9. Write a code to count the number of words in a string."
   ]
  },
  {
   "cell_type": "code",
   "execution_count": 31,
   "id": "877e3314-ccb8-4472-8c81-1f6c3a49dd90",
   "metadata": {},
   "outputs": [
    {
     "name": "stdout",
     "output_type": "stream",
     "text": [
      "Number of words: 2\n"
     ]
    }
   ],
   "source": [
    "text = \"Hello World\"\n",
    "words = text.split()\n",
    "word_count = len(words)\n",
    "print(\"Number of words:\", word_count)"
   ]
  },
  {
   "cell_type": "markdown",
   "id": "8a30ce87-11e2-4156-915f-eb1bccf98aab",
   "metadata": {},
   "source": [
    "10. Write a code to concatenate two strings without using the + operator."
   ]
  },
  {
   "cell_type": "code",
   "execution_count": 43,
   "id": "dfccedb6-228d-4c5d-89b2-194d43b01ab5",
   "metadata": {},
   "outputs": [
    {
     "name": "stdout",
     "output_type": "stream",
     "text": [
      "Concatenated_string: Hello World\n"
     ]
    }
   ],
   "source": [
    "str1 = \"Hello\"\n",
    "str2 = \"World\"\n",
    "concatenated_string = ' ' .join([str1, str2])\n",
    "print(\"Concatenated_string:\",concatenated_string)"
   ]
  },
  {
   "cell_type": "markdown",
   "id": "c35d2ed0-ce6c-43bd-b963-ada71ce5e957",
   "metadata": {},
   "source": [
    "11. Write a code to remove all occurrences of a specific element from a list."
   ]
  },
  {
   "cell_type": "code",
   "execution_count": 49,
   "id": "ff7d0b09-36f6-42b8-9941-f813c7743ab4",
   "metadata": {},
   "outputs": [
    {
     "name": "stdout",
     "output_type": "stream",
     "text": [
      "List after removal: [1, 2, 3, 45, 90]\n"
     ]
    }
   ],
   "source": [
    "list1 = (1,2,3,45,6789,90)\n",
    "element_to_remove = 6789\n",
    "my_list = [item for item in list1 if item != element_to_remove]\n",
    "print(\"List after removal:\", my_list)"
   ]
  },
  {
   "cell_type": "markdown",
   "id": "83577608-2c64-4787-8023-a16626e0818a",
   "metadata": {},
   "source": [
    "12. Implement a code to find the second largest number in a given list of integers."
   ]
  },
  {
   "cell_type": "code",
   "execution_count": 14,
   "id": "e8f4a7f1-e76c-4302-9c21-bc39cc9209af",
   "metadata": {},
   "outputs": [
    {
     "name": "stdout",
     "output_type": "stream",
     "text": [
      "The second largest number is: 7\n"
     ]
    }
   ],
   "source": [
    "numbers = [1,3,6,4,8,7,3,5,-4]\n",
    "unique_number = list(set(numbers))\n",
    "unique_number.sort()\n",
    "second_largest = unique_number[-2]\n",
    "print(\"The second largest number is:\", second_largest)"
   ]
  },
  {
   "cell_type": "markdown",
   "id": "057c377f-91b5-4871-ae0d-5ae47cbeac89",
   "metadata": {},
   "source": [
    "13. Create a code to count the occurrences of each element in a list and return a dictionary with elements as keys and their counts as values."
   ]
  },
  {
   "cell_type": "code",
   "execution_count": 19,
   "id": "f29638ea-f15a-435e-bd30-8dd407de3d52",
   "metadata": {},
   "outputs": [
    {
     "name": "stdout",
     "output_type": "stream",
     "text": [
      "Element counts: {10: 1, 20: 1, 30: 1, 50: 1, 5: 2, 79: 1, 65: 1}\n"
     ]
    }
   ],
   "source": [
    "numbers = (10,20,30,50,5,5,79,65)\n",
    "count_dict = {}\n",
    "for number in numbers:\n",
    "    if number in count_dict:\n",
    "        count_dict[number]+=1\n",
    "    else:\n",
    "        count_dict[number]=1\n",
    "print(\"Element counts:\", count_dict)"
   ]
  },
  {
   "cell_type": "markdown",
   "id": "16f0967c-8128-4835-90ca-7f9a6ca88d47",
   "metadata": {},
   "source": [
    "14. Write a code to reverse a list in-place without using any built-in reverse functions."
   ]
  },
  {
   "cell_type": "code",
   "execution_count": 21,
   "id": "18bc013a-ff41-4657-b4fe-8a1306417390",
   "metadata": {},
   "outputs": [
    {
     "name": "stdout",
     "output_type": "stream",
     "text": [
      "Reversed list: [5, 4, 3, 2, 1]\n"
     ]
    }
   ],
   "source": [
    "numbers = [1, 2, 3, 4, 5]\n",
    "n = len(numbers)\n",
    "for i in range(n // 2):\n",
    "    numbers[i], numbers[n - i - 1] = numbers[n - i - 1], numbers[i]\n",
    "print(\"Reversed list:\", numbers)"
   ]
  },
  {
   "cell_type": "markdown",
   "id": "1314fbea-5447-4544-8f8d-e07af261796a",
   "metadata": {},
   "source": [
    "15. Implement a code to find and remove duplicates from a list while preserving the original order of"
   ]
  },
  {
   "cell_type": "code",
   "execution_count": 2,
   "id": "806a20cb-73a4-4edb-b5aa-5bbbb44a1afe",
   "metadata": {},
   "outputs": [
    {
     "name": "stdout",
     "output_type": "stream",
     "text": [
      "List after removing duplicates: [10, 20, 45, 99]\n"
     ]
    }
   ],
   "source": [
    "numbers = [10, 20, 10, 45, 99, 20, 10, 99, 99]\n",
    "seen = set()\n",
    "unique_numbers = []\n",
    "for number in numbers:\n",
    "    if number not in seen:\n",
    "        seen.add(number)\n",
    "        unique_numbers.append(number)\n",
    "print(\"List after removing duplicates:\", unique_numbers)"
   ]
  },
  {
   "cell_type": "markdown",
   "id": "f7407d92-e578-4844-adb6-6adbfdc313dc",
   "metadata": {},
   "source": [
    "16. Create a code to check if a given list is sorted (either in ascending or descending order) or not."
   ]
  },
  {
   "cell_type": "code",
   "execution_count": 3,
   "id": "779bd9ac-84ce-41ac-b3db-159843a85038",
   "metadata": {},
   "outputs": [
    {
     "name": "stdout",
     "output_type": "stream",
     "text": [
      "The list is sorted in ascending order.\n"
     ]
    }
   ],
   "source": [
    "numbers = [1, 2, 3, 4, 5]\n",
    "is_ascending = numbers == sorted(numbers)\n",
    "is_descending = numbers == sorted(numbers, reverse=True)\n",
    "if is_ascending:\n",
    "    print(\"The list is sorted in ascending order.\")\n",
    "elif is_descending:\n",
    "    print(\"The list is sorted in descending order.\")\n",
    "else:\n",
    "    print(\"The list is not sorted.\")"
   ]
  },
  {
   "cell_type": "markdown",
   "id": "50a3d327-33f1-458e-8fe0-dc19bc7f63ec",
   "metadata": {},
   "source": [
    "17. Write a code to merge two sorted lists into a single sorted list."
   ]
  },
  {
   "cell_type": "code",
   "execution_count": 1,
   "id": "f6db0869-c506-4616-bb70-731da460d3a6",
   "metadata": {},
   "outputs": [
    {
     "name": "stdout",
     "output_type": "stream",
     "text": [
      "Merged sorted list: [1, 2, 3, 4, 5, 6, 7, 8]\n"
     ]
    }
   ],
   "source": [
    "list1 = [1, 3, 5, 7]\n",
    "list2 = [2, 4, 6, 8]\n",
    "merged_list = list1 + list2\n",
    "merged_list.sort()\n",
    "print(\"Merged sorted list:\", merged_list)"
   ]
  },
  {
   "cell_type": "markdown",
   "id": "516b072f-1cbe-4a87-b298-21a304ca2250",
   "metadata": {},
   "source": [
    "18. Implement a code to find the intersection of two given lists."
   ]
  },
  {
   "cell_type": "code",
   "execution_count": 7,
   "id": "9c59a41f-d209-4606-83b6-906078cfcb49",
   "metadata": {},
   "outputs": [
    {
     "name": "stdout",
     "output_type": "stream",
     "text": [
      "Intersection of the lists: [4, 5]\n"
     ]
    }
   ],
   "source": [
    "list1 = [1, 2, 3, 4, 5]\n",
    "list2 = [4, 5, 6, 7, 8]\n",
    "set1 = set(list1)\n",
    "intersection = []\n",
    "for item in list2:\n",
    "    if item in set1:\n",
    "        intersection.append(item)\n",
    "print(\"Intersection of the lists:\", intersection)"
   ]
  },
  {
   "cell_type": "markdown",
   "id": "955a0137-727f-4d9b-8a54-3cdc2f247416",
   "metadata": {},
   "source": [
    "19. Create a code to find the union of two lists without duplicates."
   ]
  },
  {
   "cell_type": "code",
   "execution_count": 8,
   "id": "ec600985-2235-49fb-b248-d3194ff2f321",
   "metadata": {},
   "outputs": [
    {
     "name": "stdout",
     "output_type": "stream",
     "text": [
      "Union of the lists without duplicates: [1, 2, 3, 4, 5, 6, 7, 8]\n"
     ]
    }
   ],
   "source": [
    "list1 = [1, 2, 3, 4, 5]\n",
    "list2 = [4, 5, 6, 7, 8]\n",
    "union_set = set(list1).union(set(list2))\n",
    "union_list = list(union_set)\n",
    "print(\"Union of the lists without duplicates:\", union_list)"
   ]
  },
  {
   "cell_type": "markdown",
   "id": "84681362-07c7-497c-806c-4f98f4f34cec",
   "metadata": {},
   "source": [
    "20. Write a code to shuffle a given list randomly without using any built-in shuffle functions."
   ]
  },
  {
   "cell_type": "code",
   "execution_count": 9,
   "id": "a119e1a2-518b-4ee9-a6db-4fdb507f3e1e",
   "metadata": {},
   "outputs": [
    {
     "name": "stdout",
     "output_type": "stream",
     "text": [
      "Shuffled list: [10, 7, 8, 4, 6, 2, 1, 9, 3, 5]\n"
     ]
    }
   ],
   "source": [
    "import random\n",
    "numbers = [1, 2, 3, 4, 5, 6, 7, 8, 9, 10]\n",
    "def shuffle_list(lst):\n",
    "    n = len(lst)\n",
    "    for i in range(n - 1, 0, -1):\n",
    "        j = random.randint(0, i)\n",
    "        lst[i], lst[j] = lst[j], lst[i]\n",
    "shuffle_list(numbers)\n",
    "print(\"Shuffled list:\", numbers)"
   ]
  },
  {
   "cell_type": "markdown",
   "id": "89550703-a1c5-42c0-9f0c-2d3859282da6",
   "metadata": {},
   "source": [
    "21. Write a code that takes two tuples as input and returns a new tuple containing elements that are common to both input tuples."
   ]
  },
  {
   "cell_type": "code",
   "execution_count": 11,
   "id": "7c7e28f3-e903-4038-919c-94edc5a58d6a",
   "metadata": {},
   "outputs": [
    {
     "name": "stdout",
     "output_type": "stream",
     "text": [
      "Common elements in both tuples: (4, 5)\n"
     ]
    }
   ],
   "source": [
    "tup1 = (1,2,3,4,5)\n",
    "tup2 = (4,5,6,7,8)\n",
    "common_elements = set(tup1) & set(tup2)\n",
    "result_tup = tuple(common_elements)\n",
    "print(\"Common elements in both tuples:\", result_tup)"
   ]
  },
  {
   "cell_type": "markdown",
   "id": "aef5e59a-5611-4dcc-a972-8ebfaa4d881b",
   "metadata": {},
   "source": [
    "22. Create a code that prompts the user to enter two sets of integers separated by commas. Then, print the intersection of these two sets."
   ]
  },
  {
   "cell_type": "code",
   "execution_count": 14,
   "id": "635353f7-9e16-4153-b08a-c74549ad60d4",
   "metadata": {},
   "outputs": [
    {
     "name": "stdin",
     "output_type": "stream",
     "text": [
      "Enter the first set of integers, separated by commas:  436\n",
      "Enter the second set of integers, separated by commas:  3456\n"
     ]
    },
    {
     "name": "stdout",
     "output_type": "stream",
     "text": [
      "Intersection of the two sets: set()\n"
     ]
    }
   ],
   "source": [
    "def get_set_from_input(prompt):\n",
    "    return set(map(int, input(prompt).split(',')))\n",
    "set1 = get_set_from_input(\"Enter the first set of integers, separated by commas: \")\n",
    "set2 = get_set_from_input(\"Enter the second set of integers, separated by commas: \")\n",
    "intersection = set1 & set2\n",
    "print(\"Intersection of the two sets:\", intersection)"
   ]
  },
  {
   "cell_type": "markdown",
   "id": "178f6a37-cedb-4d1c-aff0-a7bce91c6a4f",
   "metadata": {},
   "source": [
    "23. Write a code to concatenate two tuples. The function should take two tuples as input and return a new tuple containing elements from both input tuples."
   ]
  },
  {
   "cell_type": "code",
   "execution_count": 15,
   "id": "0f7f2452-9205-4c61-819f-8106995c064b",
   "metadata": {},
   "outputs": [
    {
     "name": "stdout",
     "output_type": "stream",
     "text": [
      "Concatenated tuple: (1, 2, 3, 4, 5, 6)\n"
     ]
    }
   ],
   "source": [
    "def concatenate_tuples(tuple1, tuple2):\n",
    "    return tuple1 + tuple2\n",
    "tuple1 = (1, 2, 3)\n",
    "tuple2 = (4, 5, 6)\n",
    "result_tuple = concatenate_tuples(tuple1, tuple2)\n",
    "print(\"Concatenated tuple:\", result_tuple)"
   ]
  },
  {
   "cell_type": "markdown",
   "id": "c0024407-0cde-4aa0-9be3-287b44df57bc",
   "metadata": {},
   "source": [
    "24. Develop a code that prompts the user to input two sets of strings. Then, print the elements that are present in the first set but not in the second set."
   ]
  },
  {
   "cell_type": "code",
   "execution_count": 17,
   "id": "ca1d6718-397c-4158-baf0-63d16df3d967",
   "metadata": {},
   "outputs": [
    {
     "name": "stdin",
     "output_type": "stream",
     "text": [
      "Enter the first set of strings, separated by commas:  567\n",
      "Enter the second set of strings, separated by commas:  789\n"
     ]
    },
    {
     "name": "stdout",
     "output_type": "stream",
     "text": [
      "Elements present in the first set but not in the second set: {'567'}\n"
     ]
    }
   ],
   "source": [
    "def get_set_from_input(prompt):\n",
    "    return set(input(prompt).split(','))\n",
    "set1 = get_set_from_input(\"Enter the first set of strings, separated by commas: \")\n",
    "set2 = get_set_from_input(\"Enter the second set of strings, separated by commas: \")\n",
    "difference = set1 - set2\n",
    "print(\"Elements present in the first set but not in the second set:\", difference)"
   ]
  },
  {
   "cell_type": "markdown",
   "id": "72f9c42e-5260-4011-b55b-718fa163be52",
   "metadata": {},
   "source": [
    "25. Create a code that takes a tuple and two integers as input. The function should return a new tuple containing elements from the original tuple within the specified range of indices."
   ]
  },
  {
   "cell_type": "code",
   "execution_count": 18,
   "id": "da1d4496-85db-4738-87aa-68718a26021c",
   "metadata": {},
   "outputs": [
    {
     "name": "stdout",
     "output_type": "stream",
     "text": [
      "Original tuple: (1, 2, 3, 4, 5, 6, 7, 8, 9, 10)\n",
      "Subtuple from index 2 to 6 : (3, 4, 5, 6)\n"
     ]
    }
   ],
   "source": [
    "def subtuple_from_range(original_tuple, start_index, end_index):\n",
    "    return original_tuple[start_index:end_index]\n",
    "original_tuple = (1, 2, 3, 4, 5, 6, 7, 8, 9, 10)\n",
    "start_index = 2\n",
    "end_index = 6\n",
    "result_tuple = subtuple_from_range(original_tuple, start_index, end_index)\n",
    "print(\"Original tuple:\", original_tuple)\n",
    "print(\"Subtuple from index\", start_index, \"to\", end_index, \":\", result_tuple)"
   ]
  },
  {
   "cell_type": "markdown",
   "id": "551e446a-5ccc-4de5-8cf7-029500be34e4",
   "metadata": {},
   "source": [
    "26. Write a code that prompts the user to input two sets of characters. Then, print the union of these two sets."
   ]
  },
  {
   "cell_type": "code",
   "execution_count": 19,
   "id": "f65125c1-ba4c-4d2a-8a33-d4b92568adf9",
   "metadata": {},
   "outputs": [
    {
     "name": "stdin",
     "output_type": "stream",
     "text": [
      "Enter the first set of characters, separated by commas:  56\n",
      "Enter the second set of characters, separated by commas:  67\n"
     ]
    },
    {
     "name": "stdout",
     "output_type": "stream",
     "text": [
      "Union of the two sets: {'56', '67'}\n"
     ]
    }
   ],
   "source": [
    "def get_set_from_input(prompt):\n",
    "    return set(input(prompt).split(','))\n",
    "set1 = get_set_from_input(\"Enter the first set of characters, separated by commas: \")\n",
    "set2 = get_set_from_input(\"Enter the second set of characters, separated by commas: \")\n",
    "union = set1 | set2\n",
    "print(\"Union of the two sets:\", union)"
   ]
  },
  {
   "cell_type": "markdown",
   "id": "3a649b89-2395-4dde-ad65-2da9f4209214",
   "metadata": {},
   "source": [
    "27. Develop a code that takes a tuple of integers as input. The function should return the maximum and"
   ]
  },
  {
   "cell_type": "code",
   "execution_count": 20,
   "id": "b471d0ca-c57d-4434-be8f-e9abfb987411",
   "metadata": {},
   "outputs": [
    {
     "name": "stdout",
     "output_type": "stream",
     "text": [
      "Tuple: (3, 1, 4, 1, 5, 9, 2, 6, 5, 3, 5)\n",
      "Maximum value: 9\n",
      "Minimum value: 1\n"
     ]
    }
   ],
   "source": [
    "def find_max_min(numbers_tuple):\n",
    "    if not numbers_tuple:\n",
    "        return None, None\n",
    "    max_value = max(numbers_tuple)\n",
    "    min_value = min(numbers_tuple)\n",
    "    return max_value, min_value\n",
    "numbers_tuple = (3, 1, 4, 1, 5, 9, 2, 6, 5, 3, 5)\n",
    "max_value, min_value = find_max_min(numbers_tuple)\n",
    "print(\"Tuple:\", numbers_tuple)\n",
    "print(\"Maximum value:\", max_value)\n",
    "print(\"Minimum value:\", min_value)"
   ]
  },
  {
   "cell_type": "markdown",
   "id": "4145e857-6e99-4b9a-b209-8272ab90770d",
   "metadata": {},
   "source": [
    "28. Create a code that defines two sets of integers. Then, print the union, intersection, and difference of these two sets."
   ]
  },
  {
   "cell_type": "code",
   "execution_count": 1,
   "id": "51c515b6-d8da-497e-b582-29e8aa6468a9",
   "metadata": {},
   "outputs": [
    {
     "name": "stdout",
     "output_type": "stream",
     "text": [
      "Set 1: {1, 2, 3, 4, 5}\n",
      "Set 2: {4, 5, 6, 7, 8}\n",
      "Union of the sets: {1, 2, 3, 4, 5, 6, 7, 8}\n",
      "Intersection of the sets: {4, 5}\n",
      "Difference (Set 1 - Set 2): {1, 2, 3}\n",
      "Difference (Set 2 - Set 1): {8, 6, 7}\n"
     ]
    }
   ],
   "source": [
    "set1 = {1, 2, 3, 4, 5}\n",
    "set2 = {4, 5, 6, 7, 8}\n",
    "union_set = set1 | set2\n",
    "intersection_set = set1 & set2\n",
    "difference_set1 = set1 - set2\n",
    "difference_set2 = set2 - set1\n",
    "\n",
    "print(\"Set 1:\", set1)\n",
    "print(\"Set 2:\", set2)\n",
    "print(\"Union of the sets:\", union_set)\n",
    "print(\"Intersection of the sets:\", intersection_set)\n",
    "print(\"Difference (Set 1 - Set 2):\", difference_set1)\n",
    "print(\"Difference (Set 2 - Set 1):\", difference_set2)"
   ]
  },
  {
   "cell_type": "markdown",
   "id": "fc3ce168-bfab-4cf2-a3a9-ad1a434a9fb7",
   "metadata": {},
   "source": [
    "29. Write a code that takes a tuple and an element as input. The function should return the count of occurrences of the given element in the tuple."
   ]
  },
  {
   "cell_type": "code",
   "execution_count": 2,
   "id": "6aefe745-eb89-4152-80ce-bdfd3ad92fe4",
   "metadata": {},
   "outputs": [
    {
     "name": "stdout",
     "output_type": "stream",
     "text": [
      "Tuple: (1, 2, 3, 4, 5, 1, 2, 1, 3, 4)\n",
      "Count of element 1: 3\n"
     ]
    }
   ],
   "source": [
    "def count_occurrences(tup, element):\n",
    "    return tup.count(element)\n",
    "sample_tuple = (1, 2, 3, 4, 5, 1, 2, 1, 3, 4)\n",
    "element_to_count = 1\n",
    "count = count_occurrences(sample_tuple, element_to_count)\n",
    "\n",
    "print(\"Tuple:\", sample_tuple)\n",
    "print(f\"Count of element {element_to_count}:\", count)"
   ]
  },
  {
   "cell_type": "markdown",
   "id": "197b8f2a-24f9-4ee2-8172-aee711a4d299",
   "metadata": {},
   "source": [
    "30. Develop a code that prompts the user to input two sets of strings. Then, print the symmetric difference of these two sets."
   ]
  },
  {
   "cell_type": "code",
   "execution_count": 3,
   "id": "d8e557ec-ce1e-46fa-a738-620d4017edf9",
   "metadata": {},
   "outputs": [
    {
     "name": "stdin",
     "output_type": "stream",
     "text": [
      "Enter the first set of strings, separated by commas:  ,\n",
      "Enter the second set of strings, separated by commas:  mnb,nm\n"
     ]
    },
    {
     "name": "stdout",
     "output_type": "stream",
     "text": [
      "Symmetric difference of the two sets: {'', 'nm', 'mnb'}\n"
     ]
    }
   ],
   "source": [
    "def get_set_from_input(prompt):\n",
    "    return set(input(prompt).split(','))\n",
    "set1 = get_set_from_input(\"Enter the first set of strings, separated by commas: \")\n",
    "set2 = get_set_from_input(\"Enter the second set of strings, separated by commas: \")\n",
    "symmetric_difference = set1 ^ set2\n",
    "print(\"Symmetric difference of the two sets:\", symmetric_difference)"
   ]
  },
  {
   "cell_type": "markdown",
   "id": "d6018854-2d25-4b2f-8f08-0657c8b960a4",
   "metadata": {},
   "source": [
    "31. Write a code that takes a list of words as input and returns a dictionary where the keys are unique words and the values are the frequencies of those words in the input list."
   ]
  },
  {
   "cell_type": "code",
   "execution_count": 4,
   "id": "bff8a94b-b3eb-4583-b0e8-2ef29ff29b99",
   "metadata": {},
   "outputs": [
    {
     "name": "stdin",
     "output_type": "stream",
     "text": [
      "Enter a list of words separated by commas:  hfu,fdjhue\n"
     ]
    },
    {
     "name": "stdout",
     "output_type": "stream",
     "text": [
      "Word frequencies: {'hfu': 1, 'fdjhue': 1}\n"
     ]
    }
   ],
   "source": [
    "def word_frequencies(word_list):\n",
    "    frequency_dict = {}\n",
    "    for word in word_list:\n",
    "        if word in frequency_dict:\n",
    "            frequency_dict[word] += 1\n",
    "        else:\n",
    "            frequency_dict[word] = 1\n",
    "    return frequency_dict\n",
    "input_list = input(\"Enter a list of words separated by commas: \").split(',')\n",
    "input_list = [word.strip() for word in input_list]\n",
    "frequencies = word_frequencies(input_list)\n",
    "print(\"Word frequencies:\", frequencies)"
   ]
  },
  {
   "cell_type": "markdown",
   "id": "ee0476c6-cfff-4b03-9fcc-c8f850965441",
   "metadata": {},
   "source": [
    "32. Write a code that takes two dictionaries as input and merges them into a single dictionary. If there are common keys, the values should be added together."
   ]
  },
  {
   "cell_type": "code",
   "execution_count": 12,
   "id": "811699ed-1c25-423b-9f24-97c9af163143",
   "metadata": {},
   "outputs": [
    {
     "name": "stdin",
     "output_type": "stream",
     "text": [
      "Enter the first dictionary (e.g., {'a': 1, 'b': 2}):  'a':1\n"
     ]
    },
    {
     "ename": "SyntaxError",
     "evalue": "invalid syntax (<string>, line 1)",
     "output_type": "error",
     "traceback": [
      "Traceback \u001b[0;36m(most recent call last)\u001b[0m:\n",
      "\u001b[0m  File \u001b[1;32m/opt/conda/lib/python3.10/site-packages/IPython/core/interactiveshell.py:3433\u001b[0m in \u001b[1;35mrun_code\u001b[0m\n    exec(code_obj, self.user_global_ns, self.user_ns)\u001b[0m\n",
      "\u001b[0;36m  Cell \u001b[0;32mIn[12], line 9\u001b[0;36m\n\u001b[0;31m    dict1 = eval(input(\"Enter the first dictionary (e.g., {'a': 1, 'b': 2}): \"))\u001b[0;36m\n",
      "\u001b[0;36m  File \u001b[0;32m<string>:1\u001b[0;36m\u001b[0m\n\u001b[0;31m    'a':1\u001b[0m\n\u001b[0m       ^\u001b[0m\n\u001b[0;31mSyntaxError\u001b[0m\u001b[0;31m:\u001b[0m invalid syntax\n"
     ]
    }
   ],
   "source": [
    "def merge_dictionaries(dict1, dict2):\n",
    "    merged_dict = dict1.copy()  \n",
    "    for key, value in dict2.items():\n",
    "        if key in merged_dict:\n",
    "            merged_dict[key] += value  \n",
    "        else:\n",
    "            merged_dict[key] = value \n",
    "    return merged_dict\n",
    "dict1 = eval(input(\"Enter the first dictionary (e.g., {'a': 1, 'b': 2}): \"))\n",
    "dict2 = eval(input(\"Enter the second dictionary (e.g., {'b': 3, 'c': 4}): \"))\n",
    "result_dict = merge_dictionaries(dict1, dict2)\n",
    "print(\"Merged dictionary:\", result_dict)"
   ]
  },
  {
   "cell_type": "markdown",
   "id": "679097fc-fa6f-4e3e-958c-2afae5e87e6f",
   "metadata": {},
   "source": [
    "33. Write a code to access a value in a nested dictionary. The function should take the dictionary and a list of keys as input, and return the corresponding value. If any of the keys do not exist in the dictionary, the function should return None."
   ]
  },
  {
   "cell_type": "code",
   "execution_count": 13,
   "id": "8bb3f803-ad3b-453b-b71f-3bd829ab2923",
   "metadata": {},
   "outputs": [
    {
     "name": "stdout",
     "output_type": "stream",
     "text": [
      "Value: 42\n"
     ]
    }
   ],
   "source": [
    "def get_nested_value(d, keys):\n",
    "    current = d\n",
    "    for key in keys:\n",
    "        if key in current:\n",
    "            current = current[key]\n",
    "        else:\n",
    "            return None\n",
    "    return current\n",
    "\n",
    "nested_dict = {\n",
    "    'a': {\n",
    "        'b': {\n",
    "            'c': 42\n",
    "        }\n",
    "    }\n",
    "}\n",
    "\n",
    "keys_list = ['a', 'b', 'c']\n",
    "value = get_nested_value(nested_dict, keys_list)\n",
    "\n",
    "print(\"Value:\", value)\n"
   ]
  },
  {
   "cell_type": "markdown",
   "id": "988a4d11-2c2f-4721-886b-85ff132b3e2b",
   "metadata": {},
   "source": [
    "34. Write a code that takes a dictionary as input and returns a sorted version of it based on the values. You can choose whether to sort in ascending or descending order."
   ]
  },
  {
   "cell_type": "code",
   "execution_count": 14,
   "id": "10f269d9-249a-4b37-9ac8-e9afe24b3a1f",
   "metadata": {},
   "outputs": [
    {
     "name": "stdout",
     "output_type": "stream",
     "text": [
      "Sorted dictionary (ascending): {'banana': 2, 'cherry': 7, 'apple': 10, 'date': 15}\n",
      "Sorted dictionary (descending): {'date': 15, 'apple': 10, 'cherry': 7, 'banana': 2}\n"
     ]
    }
   ],
   "source": [
    "def sort_dict_by_values(d, descending=False):\n",
    "    sorted_items = sorted(d.items(), key=lambda item: item[1], reverse=descending)\n",
    "    sorted_dict = dict(sorted_items)\n",
    "    return sorted_dict\n",
    "\n",
    "sample_dict = {\n",
    "    'apple': 10,\n",
    "    'banana': 2,\n",
    "    'cherry': 7,\n",
    "    'date': 15\n",
    "}\n",
    "\n",
    "sorted_dict_ascending = sort_dict_by_values(sample_dict, descending=False)\n",
    "print(\"Sorted dictionary (ascending):\", sorted_dict_ascending)\n",
    "\n",
    "sorted_dict_descending = sort_dict_by_values(sample_dict, descending=True)\n",
    "print(\"Sorted dictionary (descending):\", sorted_dict_descending)\n"
   ]
  },
  {
   "cell_type": "markdown",
   "id": "0a0e9774-e84d-455c-9f35-187e093de816",
   "metadata": {},
   "source": [
    "35. Write a code that inverts a dictionary, swapping keys and values. Ensure that the inverted dictionary correctly handles cases where multiple keys have the same value by storing the keys as a list in the inverted dictionary."
   ]
  },
  {
   "cell_type": "code",
   "execution_count": 15,
   "id": "f75726dd-5231-43ae-beee-037ab1239f1b",
   "metadata": {},
   "outputs": [
    {
     "name": "stdout",
     "output_type": "stream",
     "text": [
      "Original dictionary: {'a': 1, 'b': 2, 'c': 1, 'd': 3, 'e': 2}\n",
      "Inverted dictionary: {1: ['a', 'c'], 2: ['b', 'e'], 3: ['d']}\n"
     ]
    }
   ],
   "source": [
    "def invert_dict(d):\n",
    "    inverted_dict = {}\n",
    "    for key, value in d.items():\n",
    "        if value in inverted_dict:\n",
    "            inverted_dict[value].append(key)\n",
    "        else:\n",
    "            inverted_dict[value] = [key]\n",
    "    return inverted_dict\n",
    "\n",
    "sample_dict = {\n",
    "    'a': 1,\n",
    "    'b': 2,\n",
    "    'c': 1,\n",
    "    'd': 3,\n",
    "    'e': 2\n",
    "}\n",
    "\n",
    "inverted_dict = invert_dict(sample_dict)\n",
    "\n",
    "print(\"Original dictionary:\", sample_dict)\n",
    "print(\"Inverted dictionary:\", inverted_dict)\n"
   ]
  },
  {
   "cell_type": "code",
   "execution_count": null,
   "id": "09cdce4c-6f19-4f1b-a1c9-2e23bed25feb",
   "metadata": {},
   "outputs": [],
   "source": []
  },
  {
   "cell_type": "code",
   "execution_count": null,
   "id": "7b5cbd1f-7963-4c95-ae6a-f7c92a8cea80",
   "metadata": {},
   "outputs": [],
   "source": []
  },
  {
   "cell_type": "code",
   "execution_count": null,
   "id": "f3b74252-7d3b-49bf-8e40-af5e09728a7a",
   "metadata": {},
   "outputs": [],
   "source": []
  },
  {
   "cell_type": "code",
   "execution_count": null,
   "id": "6a9e6b6d-4fd5-49ac-8abd-55e3c60dc5bb",
   "metadata": {},
   "outputs": [],
   "source": []
  },
  {
   "cell_type": "code",
   "execution_count": null,
   "id": "6faebd13-3928-49a0-a8dc-ac9a1ef215cf",
   "metadata": {},
   "outputs": [],
   "source": []
  },
  {
   "cell_type": "code",
   "execution_count": null,
   "id": "3240048b-a086-496d-b6b6-80294fb6c5d9",
   "metadata": {},
   "outputs": [],
   "source": []
  },
  {
   "cell_type": "code",
   "execution_count": null,
   "id": "c4bb8ac1-1e60-49b5-a1bf-7fdf074dce40",
   "metadata": {},
   "outputs": [],
   "source": []
  },
  {
   "cell_type": "code",
   "execution_count": null,
   "id": "67039603-1456-433f-8a75-6ef9d3b3eb3c",
   "metadata": {},
   "outputs": [],
   "source": []
  },
  {
   "cell_type": "code",
   "execution_count": null,
   "id": "fc6fa39a-dee7-4977-a96a-86c7354f7078",
   "metadata": {},
   "outputs": [],
   "source": []
  }
 ],
 "metadata": {
  "kernelspec": {
   "display_name": "Python 3 (ipykernel)",
   "language": "python",
   "name": "python3"
  },
  "language_info": {
   "codemirror_mode": {
    "name": "ipython",
    "version": 3
   },
   "file_extension": ".py",
   "mimetype": "text/x-python",
   "name": "python",
   "nbconvert_exporter": "python",
   "pygments_lexer": "ipython3",
   "version": "3.10.8"
  }
 },
 "nbformat": 4,
 "nbformat_minor": 5
}
